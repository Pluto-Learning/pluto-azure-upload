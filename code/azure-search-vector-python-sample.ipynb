{
 "cells": [
  {
   "attachments": {},
   "cell_type": "markdown",
   "metadata": {},
   "source": [
    "# Azure Cognitive Search Vector Search Code Sample with Azure OpenAI\n",
    "This code demonstrates how to use Azure Cognitive Search by using the Push API to insert vectors into your search index.\n",
    "## Prerequisites\n",
    "To run the code, install the following packages. Please use the latest pre-release version `pip install azure-search-documents --pre`. This sample currently uses version `11.4.0b11`."
   ]
  },
  {
   "cell_type": "code",
   "execution_count": 1,
   "metadata": {},
   "outputs": [
    {
     "name": "stdout",
     "output_type": "stream",
     "text": [
      "Requirement already satisfied: azure-search-documents==11.4.0b11 in /Library/Frameworks/Python.framework/Versions/3.11/lib/python3.11/site-packages (11.4.0b11)\n",
      "Requirement already satisfied: azure-core<2.0.0,>=1.24.0 in /Library/Frameworks/Python.framework/Versions/3.11/lib/python3.11/site-packages (from azure-search-documents==11.4.0b11) (1.29.4)\n",
      "Requirement already satisfied: azure-common~=1.1 in /Library/Frameworks/Python.framework/Versions/3.11/lib/python3.11/site-packages (from azure-search-documents==11.4.0b11) (1.1.28)\n",
      "Requirement already satisfied: isodate>=0.6.0 in /Library/Frameworks/Python.framework/Versions/3.11/lib/python3.11/site-packages (from azure-search-documents==11.4.0b11) (0.6.1)\n",
      "Requirement already satisfied: requests>=2.18.4 in /Library/Frameworks/Python.framework/Versions/3.11/lib/python3.11/site-packages (from azure-core<2.0.0,>=1.24.0->azure-search-documents==11.4.0b11) (2.31.0)\n",
      "Requirement already satisfied: six>=1.11.0 in /Library/Frameworks/Python.framework/Versions/3.11/lib/python3.11/site-packages (from azure-core<2.0.0,>=1.24.0->azure-search-documents==11.4.0b11) (1.16.0)\n",
      "Requirement already satisfied: typing-extensions>=4.6.0 in /Library/Frameworks/Python.framework/Versions/3.11/lib/python3.11/site-packages (from azure-core<2.0.0,>=1.24.0->azure-search-documents==11.4.0b11) (4.8.0)\n",
      "Requirement already satisfied: charset-normalizer<4,>=2 in /Library/Frameworks/Python.framework/Versions/3.11/lib/python3.11/site-packages (from requests>=2.18.4->azure-core<2.0.0,>=1.24.0->azure-search-documents==11.4.0b11) (3.1.0)\n",
      "Requirement already satisfied: idna<4,>=2.5 in /Library/Frameworks/Python.framework/Versions/3.11/lib/python3.11/site-packages (from requests>=2.18.4->azure-core<2.0.0,>=1.24.0->azure-search-documents==11.4.0b11) (3.4)\n",
      "Requirement already satisfied: urllib3<3,>=1.21.1 in /Library/Frameworks/Python.framework/Versions/3.11/lib/python3.11/site-packages (from requests>=2.18.4->azure-core<2.0.0,>=1.24.0->azure-search-documents==11.4.0b11) (1.26.15)\n",
      "Requirement already satisfied: certifi>=2017.4.17 in /Library/Frameworks/Python.framework/Versions/3.11/lib/python3.11/site-packages (from requests>=2.18.4->azure-core<2.0.0,>=1.24.0->azure-search-documents==11.4.0b11) (2022.12.7)\n",
      "Requirement already satisfied: openai in /Library/Frameworks/Python.framework/Versions/3.11/lib/python3.11/site-packages (0.28.1)\n",
      "Requirement already satisfied: requests>=2.20 in /Library/Frameworks/Python.framework/Versions/3.11/lib/python3.11/site-packages (from openai) (2.31.0)\n",
      "Requirement already satisfied: tqdm in /Library/Frameworks/Python.framework/Versions/3.11/lib/python3.11/site-packages (from openai) (4.66.1)\n",
      "Requirement already satisfied: aiohttp in /Library/Frameworks/Python.framework/Versions/3.11/lib/python3.11/site-packages (from openai) (3.8.5)\n",
      "Requirement already satisfied: charset-normalizer<4,>=2 in /Library/Frameworks/Python.framework/Versions/3.11/lib/python3.11/site-packages (from requests>=2.20->openai) (3.1.0)\n",
      "Requirement already satisfied: idna<4,>=2.5 in /Library/Frameworks/Python.framework/Versions/3.11/lib/python3.11/site-packages (from requests>=2.20->openai) (3.4)\n",
      "Requirement already satisfied: urllib3<3,>=1.21.1 in /Library/Frameworks/Python.framework/Versions/3.11/lib/python3.11/site-packages (from requests>=2.20->openai) (1.26.15)\n",
      "Requirement already satisfied: certifi>=2017.4.17 in /Library/Frameworks/Python.framework/Versions/3.11/lib/python3.11/site-packages (from requests>=2.20->openai) (2022.12.7)\n",
      "Requirement already satisfied: attrs>=17.3.0 in /Library/Frameworks/Python.framework/Versions/3.11/lib/python3.11/site-packages (from aiohttp->openai) (23.1.0)\n",
      "Requirement already satisfied: multidict<7.0,>=4.5 in /Library/Frameworks/Python.framework/Versions/3.11/lib/python3.11/site-packages (from aiohttp->openai) (6.0.4)\n",
      "Requirement already satisfied: async-timeout<5.0,>=4.0.0a3 in /Library/Frameworks/Python.framework/Versions/3.11/lib/python3.11/site-packages (from aiohttp->openai) (4.0.3)\n",
      "Requirement already satisfied: yarl<2.0,>=1.0 in /Library/Frameworks/Python.framework/Versions/3.11/lib/python3.11/site-packages (from aiohttp->openai) (1.9.2)\n",
      "Requirement already satisfied: frozenlist>=1.1.1 in /Library/Frameworks/Python.framework/Versions/3.11/lib/python3.11/site-packages (from aiohttp->openai) (1.4.0)\n",
      "Requirement already satisfied: aiosignal>=1.1.2 in /Library/Frameworks/Python.framework/Versions/3.11/lib/python3.11/site-packages (from aiohttp->openai) (1.3.1)\n",
      "Requirement already satisfied: python-dotenv in /Library/Frameworks/Python.framework/Versions/3.11/lib/python3.11/site-packages (1.0.0)\n",
      "Requirement already satisfied: PyMuPDF in /Library/Frameworks/Python.framework/Versions/3.11/lib/python3.11/site-packages (1.23.4)\n",
      "Requirement already satisfied: PyMuPDFb==1.23.3 in /Library/Frameworks/Python.framework/Versions/3.11/lib/python3.11/site-packages (from PyMuPDF) (1.23.3)\n",
      "Requirement already satisfied: tiktoken in /Library/Frameworks/Python.framework/Versions/3.11/lib/python3.11/site-packages (0.5.1)\n",
      "Requirement already satisfied: regex>=2022.1.18 in /Library/Frameworks/Python.framework/Versions/3.11/lib/python3.11/site-packages (from tiktoken) (2023.8.8)\n",
      "Requirement already satisfied: requests>=2.26.0 in /Library/Frameworks/Python.framework/Versions/3.11/lib/python3.11/site-packages (from tiktoken) (2.31.0)\n",
      "Requirement already satisfied: charset-normalizer<4,>=2 in /Library/Frameworks/Python.framework/Versions/3.11/lib/python3.11/site-packages (from requests>=2.26.0->tiktoken) (3.1.0)\n",
      "Requirement already satisfied: idna<4,>=2.5 in /Library/Frameworks/Python.framework/Versions/3.11/lib/python3.11/site-packages (from requests>=2.26.0->tiktoken) (3.4)\n",
      "Requirement already satisfied: urllib3<3,>=1.21.1 in /Library/Frameworks/Python.framework/Versions/3.11/lib/python3.11/site-packages (from requests>=2.26.0->tiktoken) (1.26.15)\n",
      "Requirement already satisfied: certifi>=2017.4.17 in /Library/Frameworks/Python.framework/Versions/3.11/lib/python3.11/site-packages (from requests>=2.26.0->tiktoken) (2022.12.7)\n",
      "Requirement already satisfied: ratelimit in /Library/Frameworks/Python.framework/Versions/3.11/lib/python3.11/site-packages (2.2.1)\n",
      "Requirement already satisfied: tenacity in /Library/Frameworks/Python.framework/Versions/3.11/lib/python3.11/site-packages (8.2.3)\n"
     ]
    }
   ],
   "source": [
    "! pip3 install azure-search-documents==11.4.0b11\n",
    "! pip3 install openai\n",
    "! pip3 install python-dotenv\n",
    "! pip3 install PyMuPDF\n",
    "! pip3 install tiktoken\n",
    "! pip3 install ratelimit\n",
    "! pip3 install tenacity\n"
   ]
  },
  {
   "attachments": {},
   "cell_type": "markdown",
   "metadata": {},
   "source": [
    "## Import required libraries and environment variables"
   ]
  },
  {
   "cell_type": "code",
   "execution_count": 2,
   "metadata": {},
   "outputs": [
    {
     "name": "stdout",
     "output_type": "stream",
     "text": [
      "https://plutolearning-demo-2.search.windows.net\n"
     ]
    }
   ],
   "source": [
    "# Import required libraries  \n",
    "import os  \n",
    "import json  \n",
    "import openai\n",
    "import fitz\n",
    "import tiktoken\n",
    "import re\n",
    "import hashlib\n",
    "import time\n",
    "from ratelimit import limits, sleep_and_retry\n",
    "import dotenv\n",
    "from tenacity import retry, wait_random_exponential, stop_after_attempt  \n",
    "from azure.core.credentials import AzureKeyCredential  \n",
    "from azure.search.documents import SearchClient, SearchIndexingBufferedSender  \n",
    "from azure.search.documents.indexes import SearchIndexClient  \n",
    "\n",
    "from azure.search.documents.indexes.models import (  \n",
    "    ExhaustiveKnnVectorSearchAlgorithmConfiguration,\n",
    "    ExhaustiveKnnParameters,\n",
    "    SearchIndex,  \n",
    "    SearchField,  \n",
    "    SearchFieldDataType,  \n",
    "    SimpleField,  \n",
    "    SearchableField,  \n",
    "    SearchIndex,  \n",
    "    SemanticConfiguration,  \n",
    "    PrioritizedFields,  \n",
    "    SemanticField,  \n",
    "    SearchField,  \n",
    "    SemanticSettings,  \n",
    "    VectorSearch,  \n",
    "    HnswVectorSearchAlgorithmConfiguration,\n",
    "    HnswParameters,  \n",
    "    VectorSearch,\n",
    "    VectorSearchAlgorithmConfiguration,\n",
    "    VectorSearchAlgorithmKind,\n",
    "    VectorSearchProfile,\n",
    "    VectorSearchVectorizer,\n",
    "    VectorSearchVectorizerKind,\n",
    "    AzureOpenAIParameters,\n",
    "    AzureOpenAIVectorizer,\n",
    "    SearchIndex,\n",
    "    SearchField,\n",
    "    SearchFieldDataType,\n",
    "    SimpleField,\n",
    "    SearchableField,\n",
    "    VectorSearch,\n",
    "    HnswVectorSearchAlgorithmConfiguration,\n",
    "    ExhaustiveKnnVectorSearchAlgorithmConfiguration,\n",
    "    ExhaustiveKnnParameters,\n",
    "    SearchIndex,  \n",
    "    SearchField,  \n",
    "    SearchFieldDataType,  \n",
    "    SimpleField,  \n",
    "    SearchableField,  \n",
    "    SearchIndex,  \n",
    "    SemanticConfiguration,  \n",
    "    PrioritizedFields,  \n",
    "    SemanticField,  \n",
    "    SearchField,  \n",
    "    SemanticSettings, \n",
    "    VectorSearch,  \n",
    "    HnswVectorSearchAlgorithmConfiguration,\n",
    "    HnswParameters,  \n",
    "    VectorSearch,\n",
    "    VectorSearchAlgorithmKind,\n",
    "    VectorSearchProfile,\n",
    "    AzureOpenAIParameters,\n",
    "    AzureOpenAIVectorizer,\n",
    ")  \n",
    "  \n",
    "# Configure environment variables  \n",
    "dotenv.load_dotenv(dotenv_path=\"../.env\", override=True)\n",
    "service_endpoint = str(os.getenv(\"AZURE_SEARCH_SERVICE_ENDPOINT\"))\n",
    "print(service_endpoint)\n",
    "index_name = os.getenv(\"AZURE_SEARCH_INDEX_NAME\") \n",
    "key = os.getenv(\"AZURE_SEARCH_ADMIN_KEY\") \n",
    "openai.api_type = \"azure\"  \n",
    "openai.api_key = os.getenv(\"AZURE_OPENAI_API_KEY\")  \n",
    "openai.api_base = os.getenv(\"AZURE_OPENAI_ENDPOINT\")  \n",
    "openai.api_version = os.getenv(\"AZURE_OPENAI_API_VERSION\") \n",
    "model: str = \"text-embedding-ada-002\" \n",
    "credential = AzureKeyCredential(key)\n"
   ]
  },
  {
   "cell_type": "code",
   "execution_count": 3,
   "metadata": {},
   "outputs": [
    {
     "ename": "ResourceNotFoundError",
     "evalue": "() The index 'employease-index-2' for service 'plutolearning-demo-2' was not found.\nCode: \nMessage: The index 'employease-index-2' for service 'plutolearning-demo-2' was not found.",
     "output_type": "error",
     "traceback": [
      "\u001b[0;31m---------------------------------------------------------------------------\u001b[0m",
      "\u001b[0;31mResourceNotFoundError\u001b[0m                     Traceback (most recent call last)",
      "\u001b[1;32m/Users/jon/plutolearning/cognitive-search-vector-pr/demo-python/code/azure-search-vector-python-sample.ipynb Cell 5\u001b[0m line \u001b[0;36m5\n\u001b[1;32m      <a href='vscode-notebook-cell:/Users/jon/plutolearning/cognitive-search-vector-pr/demo-python/code/azure-search-vector-python-sample.ipynb#W4sZmlsZQ%3D%3D?line=0'>1</a>\u001b[0m client \u001b[39m=\u001b[39m SearchClient(endpoint\u001b[39m=\u001b[39mservice_endpoint,\n\u001b[1;32m      <a href='vscode-notebook-cell:/Users/jon/plutolearning/cognitive-search-vector-pr/demo-python/code/azure-search-vector-python-sample.ipynb#W4sZmlsZQ%3D%3D?line=1'>2</a>\u001b[0m                       index_name\u001b[39m=\u001b[39m\u001b[39m\"\u001b[39m\u001b[39memployease-index-2\u001b[39m\u001b[39m\"\u001b[39m,\n\u001b[1;32m      <a href='vscode-notebook-cell:/Users/jon/plutolearning/cognitive-search-vector-pr/demo-python/code/azure-search-vector-python-sample.ipynb#W4sZmlsZQ%3D%3D?line=2'>3</a>\u001b[0m                       credential\u001b[39m=\u001b[39mcredential)\n\u001b[1;32m      <a href='vscode-notebook-cell:/Users/jon/plutolearning/cognitive-search-vector-pr/demo-python/code/azure-search-vector-python-sample.ipynb#W4sZmlsZQ%3D%3D?line=3'>4</a>\u001b[0m results \u001b[39m=\u001b[39m client\u001b[39m.\u001b[39msearch(search_text\u001b[39m=\u001b[39m\u001b[39m\"\u001b[39m\u001b[39mexam 1\u001b[39m\u001b[39m\"\u001b[39m)\n\u001b[0;32m----> <a href='vscode-notebook-cell:/Users/jon/plutolearning/cognitive-search-vector-pr/demo-python/code/azure-search-vector-python-sample.ipynb#W4sZmlsZQ%3D%3D?line=4'>5</a>\u001b[0m \u001b[39mfor\u001b[39;49;00m result \u001b[39min\u001b[39;49;00m results:\n\u001b[1;32m      <a href='vscode-notebook-cell:/Users/jon/plutolearning/cognitive-search-vector-pr/demo-python/code/azure-search-vector-python-sample.ipynb#W4sZmlsZQ%3D%3D?line=5'>6</a>\u001b[0m     \u001b[39mprint\u001b[39;49m(\u001b[39m\"\u001b[39;49m\u001b[39m{}\u001b[39;49;00m\u001b[39m: \u001b[39;49m\u001b[39m{}\u001b[39;49;00m\u001b[39m)\u001b[39;49m\u001b[39m\"\u001b[39;49m\u001b[39m.\u001b[39;49mformat(result[\u001b[39m\"\u001b[39;49m\u001b[39mfilepath\u001b[39;49m\u001b[39m\"\u001b[39;49m], result[\u001b[39m\"\u001b[39;49m\u001b[39murl\u001b[39;49m\u001b[39m\"\u001b[39;49m]))\n",
      "File \u001b[0;32m/Library/Frameworks/Python.framework/Versions/3.11/lib/python3.11/site-packages/azure/search/documents/_paging.py:53\u001b[0m, in \u001b[0;36mSearchItemPaged.__next__\u001b[0;34m(self)\u001b[0m\n\u001b[1;32m     51\u001b[0m     first_iterator \u001b[39m=\u001b[39m \u001b[39mself\u001b[39m\u001b[39m.\u001b[39m_first_iterator_instance()\n\u001b[1;32m     52\u001b[0m     \u001b[39mself\u001b[39m\u001b[39m.\u001b[39m_page_iterator \u001b[39m=\u001b[39m itertools\u001b[39m.\u001b[39mchain\u001b[39m.\u001b[39mfrom_iterable(first_iterator)\n\u001b[0;32m---> 53\u001b[0m \u001b[39mreturn\u001b[39;00m \u001b[39mnext\u001b[39;49m(\u001b[39mself\u001b[39;49m\u001b[39m.\u001b[39;49m_page_iterator)\n",
      "File \u001b[0;32m/Library/Frameworks/Python.framework/Versions/3.11/lib/python3.11/site-packages/azure/core/paging.py:75\u001b[0m, in \u001b[0;36mPageIterator.__next__\u001b[0;34m(self)\u001b[0m\n\u001b[1;32m     73\u001b[0m     \u001b[39mraise\u001b[39;00m \u001b[39mStopIteration\u001b[39;00m(\u001b[39m\"\u001b[39m\u001b[39mEnd of paging\u001b[39m\u001b[39m\"\u001b[39m)\n\u001b[1;32m     74\u001b[0m \u001b[39mtry\u001b[39;00m:\n\u001b[0;32m---> 75\u001b[0m     \u001b[39mself\u001b[39m\u001b[39m.\u001b[39m_response \u001b[39m=\u001b[39m \u001b[39mself\u001b[39;49m\u001b[39m.\u001b[39;49m_get_next(\u001b[39mself\u001b[39;49m\u001b[39m.\u001b[39;49mcontinuation_token)\n\u001b[1;32m     76\u001b[0m \u001b[39mexcept\u001b[39;00m AzureError \u001b[39mas\u001b[39;00m error:\n\u001b[1;32m     77\u001b[0m     \u001b[39mif\u001b[39;00m \u001b[39mnot\u001b[39;00m error\u001b[39m.\u001b[39mcontinuation_token:\n",
      "File \u001b[0;32m/Library/Frameworks/Python.framework/Versions/3.11/lib/python3.11/site-packages/azure/search/documents/_paging.py:123\u001b[0m, in \u001b[0;36mSearchPageIterator._get_next_cb\u001b[0;34m(self, continuation_token)\u001b[0m\n\u001b[1;32m    121\u001b[0m \u001b[39mdef\u001b[39;00m \u001b[39m_get_next_cb\u001b[39m(\u001b[39mself\u001b[39m, continuation_token):\n\u001b[1;32m    122\u001b[0m     \u001b[39mif\u001b[39;00m continuation_token \u001b[39mis\u001b[39;00m \u001b[39mNone\u001b[39;00m:\n\u001b[0;32m--> 123\u001b[0m         \u001b[39mreturn\u001b[39;00m \u001b[39mself\u001b[39;49m\u001b[39m.\u001b[39;49m_client\u001b[39m.\u001b[39;49mdocuments\u001b[39m.\u001b[39;49msearch_post(search_request\u001b[39m=\u001b[39;49m\u001b[39mself\u001b[39;49m\u001b[39m.\u001b[39;49m_initial_query\u001b[39m.\u001b[39;49mrequest, \u001b[39m*\u001b[39;49m\u001b[39m*\u001b[39;49m\u001b[39mself\u001b[39;49m\u001b[39m.\u001b[39;49m_kwargs)\n\u001b[1;32m    125\u001b[0m     _next_link, next_page_request \u001b[39m=\u001b[39m unpack_continuation_token(continuation_token)\n\u001b[1;32m    127\u001b[0m     \u001b[39mreturn\u001b[39;00m \u001b[39mself\u001b[39m\u001b[39m.\u001b[39m_client\u001b[39m.\u001b[39mdocuments\u001b[39m.\u001b[39msearch_post(search_request\u001b[39m=\u001b[39mnext_page_request, \u001b[39m*\u001b[39m\u001b[39m*\u001b[39m\u001b[39mself\u001b[39m\u001b[39m.\u001b[39m_kwargs)\n",
      "File \u001b[0;32m/Library/Frameworks/Python.framework/Versions/3.11/lib/python3.11/site-packages/azure/core/tracing/decorator.py:78\u001b[0m, in \u001b[0;36mdistributed_trace.<locals>.decorator.<locals>.wrapper_use_tracer\u001b[0;34m(*args, **kwargs)\u001b[0m\n\u001b[1;32m     76\u001b[0m span_impl_type \u001b[39m=\u001b[39m settings\u001b[39m.\u001b[39mtracing_implementation()\n\u001b[1;32m     77\u001b[0m \u001b[39mif\u001b[39;00m span_impl_type \u001b[39mis\u001b[39;00m \u001b[39mNone\u001b[39;00m:\n\u001b[0;32m---> 78\u001b[0m     \u001b[39mreturn\u001b[39;00m func(\u001b[39m*\u001b[39;49margs, \u001b[39m*\u001b[39;49m\u001b[39m*\u001b[39;49mkwargs)\n\u001b[1;32m     80\u001b[0m \u001b[39m# Merge span is parameter is set, but only if no explicit parent are passed\u001b[39;00m\n\u001b[1;32m     81\u001b[0m \u001b[39mif\u001b[39;00m merge_span \u001b[39mand\u001b[39;00m \u001b[39mnot\u001b[39;00m passed_in_parent:\n",
      "File \u001b[0;32m/Library/Frameworks/Python.framework/Versions/3.11/lib/python3.11/site-packages/azure/search/documents/_generated/operations/_documents_operations.py:784\u001b[0m, in \u001b[0;36mDocumentsOperations.search_post\u001b[0;34m(self, search_request, request_options, **kwargs)\u001b[0m\n\u001b[1;32m    781\u001b[0m response \u001b[39m=\u001b[39m pipeline_response\u001b[39m.\u001b[39mhttp_response\n\u001b[1;32m    783\u001b[0m \u001b[39mif\u001b[39;00m response\u001b[39m.\u001b[39mstatus_code \u001b[39mnot\u001b[39;00m \u001b[39min\u001b[39;00m [\u001b[39m200\u001b[39m]:\n\u001b[0;32m--> 784\u001b[0m     map_error(status_code\u001b[39m=\u001b[39;49mresponse\u001b[39m.\u001b[39;49mstatus_code, response\u001b[39m=\u001b[39;49mresponse, error_map\u001b[39m=\u001b[39;49merror_map)\n\u001b[1;32m    785\u001b[0m     error \u001b[39m=\u001b[39m \u001b[39mself\u001b[39m\u001b[39m.\u001b[39m_deserialize\u001b[39m.\u001b[39mfailsafe_deserialize(_models\u001b[39m.\u001b[39mSearchError, pipeline_response)\n\u001b[1;32m    786\u001b[0m     \u001b[39mraise\u001b[39;00m HttpResponseError(response\u001b[39m=\u001b[39mresponse, model\u001b[39m=\u001b[39merror)\n",
      "File \u001b[0;32m/Library/Frameworks/Python.framework/Versions/3.11/lib/python3.11/site-packages/azure/core/exceptions.py:165\u001b[0m, in \u001b[0;36mmap_error\u001b[0;34m(status_code, response, error_map)\u001b[0m\n\u001b[1;32m    163\u001b[0m     \u001b[39mreturn\u001b[39;00m\n\u001b[1;32m    164\u001b[0m error \u001b[39m=\u001b[39m error_type(response\u001b[39m=\u001b[39mresponse)\n\u001b[0;32m--> 165\u001b[0m \u001b[39mraise\u001b[39;00m error\n",
      "\u001b[0;31mResourceNotFoundError\u001b[0m: () The index 'employease-index-2' for service 'plutolearning-demo-2' was not found.\nCode: \nMessage: The index 'employease-index-2' for service 'plutolearning-demo-2' was not found."
     ]
    }
   ],
   "source": [
    "# client = SearchClient(endpoint=service_endpoint,\n",
    "#                       index_name=\"employease-index-2\",\n",
    "#                       credential=credential)\n",
    "# results = client.search(search_text=\"exam 1\")\n",
    "# for result in results:\n",
    "#     print(\"{}: {})\".format(result[\"filepath\"], result[\"url\"]))\n"
   ]
  },
  {
   "cell_type": "code",
   "execution_count": 4,
   "metadata": {},
   "outputs": [],
   "source": [
    "def chunk_text(text: str, limit: int, encoding: tiktoken.Encoding):\n",
    "    \"\"\"Split a string into parts of given size without breaking words.\n",
    "    \n",
    "    Args:\n",
    "        text (str): Text to split.\n",
    "        limit (int): Maximum number of tokens per part.\n",
    "        encoding (tiktoken.Encoding): Encoding to use for tokenization.\n",
    "        \n",
    "    Returns:\n",
    "        list[str]: List of text parts.\n",
    "        \n",
    "    \"\"\"\n",
    "    tokens = encoding.encode(text)\n",
    "    parts = []\n",
    "    text_parts = []\n",
    "    current_part = []\n",
    "    current_count = 0\n",
    "\n",
    "    for token in tokens:\n",
    "        current_part.append(token)\n",
    "        current_count += 1\n",
    "\n",
    "        if current_count >= limit:\n",
    "            parts.append(current_part)\n",
    "            current_part = []\n",
    "            current_count = 0\n",
    "\n",
    "    if current_part:\n",
    "        parts.append(current_part)\n",
    "\n",
    "    # Convert the tokenized parts back to text\n",
    "    for part in parts:\n",
    "        text = [\n",
    "            encoding.decode_single_token_bytes(token).decode(\"utf-8\", errors=\"replace\")\n",
    "            for token in part\n",
    "        ]\n",
    "        text_parts.append(\"\".join(text))\n",
    "\n",
    "    return text_parts\n"
   ]
  },
  {
   "cell_type": "markdown",
   "metadata": {},
   "source": [
    "## Helper to read the file\n",
    "Returns an entire string of the pdf"
   ]
  },
  {
   "cell_type": "code",
   "execution_count": 5,
   "metadata": {},
   "outputs": [],
   "source": [
    "def get_pages(file):\n",
    "    pages = []\n",
    "    with fitz.open(file) as doc:\n",
    "        for page in doc:\n",
    "            pages.append(page.get_text())\n",
    "    return pages"
   ]
  },
  {
   "cell_type": "code",
   "execution_count": null,
   "metadata": {},
   "outputs": [
    {
     "name": "stdout",
     "output_type": "stream",
     "text": [
      " \n",
      "  \n",
      "McGee – MANA 4322.015 - Fall 2023 -- 1 \n",
      " \n",
      " \n",
      "MANA 4322 Section 015: Strategic Management \n",
      "Fall 2023 \n",
      "Instructor Information \n",
      "Instructor:  Jeffrey E. McGee \n",
      "Office: COBA 229 \n",
      "Office Hours: By Appointment \n",
      "Office Telephone Number: (817) 272-3166 \n",
      "Faculty Profile: http://www.uta.edu/profiles/jmcgee  \n",
      "E-mail:  jmcgee@uta.edu \n",
      "Course Information \n",
      "Section Information: MANA 4322-015  \n",
      "Time and Place of Class Meetings: TuTH 11:00 a.m. - 12:30 p.m. COBA154.  \n",
      "Text: Essentials of Strategic Management: The Quest for Competitive Advantage, 7th Edition. \n",
      "ISBN10: 1264124333 | ISBN13: 9781264124336 ISBN10# 1260261549 and ISBN13# 97812660261547. (5th through \n",
      "7th Editions will also be acceptable). Capstone® Business Simulation (online registration and fee). Download the \n",
      "Team Membership Guide from the website after registration. Capstone Business Simulation Online registration at \n",
      "Capsim.com – ID# C145441. \n",
      "Description of Course Content  \n",
      "Strategic Management, as a field of study, considers the overall direction of an enterprise. This course focuses on \n",
      "corporate and business unit-level strategy formulation and implementation. It requires applying the knowledge and \n",
      "techniques learned in the earlier courses in an integrated fashion. The topics to be covered include the relationship of \n",
      "organizations to their environments, organizational mission and objectives, systematic analysis of the external and \n",
      "internal environments of the firm using various theoretical frameworks, corporate-level and business-level strategies, \n",
      "the role of organizational structures and systems in the context of strategy formulation and implementation and the \n",
      "mechanisms for monitoring and evaluating the effectiveness of strategic decisions and their implementation.  \n",
      "This course encourages an integrated, multifunctional, \"general management\" perspective of the organization and its \n",
      "environment to develop skills necessary and appropriate to corporate-level and divisional-level policy analysis, \n",
      "formulation, and implementation.  \n",
      "This is the capstone course for business majors. Prerequisite: ACCT 2301 and ACCT 2302, BUSA/STAT/BSTAT 3321, \n",
      "ECON 2305 and ECON 2306, FINA 3313, MANA 3318, and MARK 3321. One of the following junior-level courses may be \n",
      "taken concurrently: BSTAT 3321, FINA 3313, MANA 3318, or MARK 3321 \n",
      "Student Learning Objectives  \n",
      "1. \n",
      "Construct a managerial perspective recognizing long-term and short-term organizational goals and multiple \n",
      "stakeholders.  \n",
      "2. \n",
      "Organize the diverse functional disciplines learned in earlier courses – finance, marketing, human resources, \n",
      "and decision systems – into one integrative perspective.  \n",
      "3. \n",
      "Explain the three major strategic management elements: strategy analysis, formulation, and implementation.  \n",
      "4. \n",
      "Explain the influence of global competition on firm strategy and performance.  \n",
      "\n"
     ]
    }
   ],
   "source": [
    "textbook = get_pages(\"../data-cleaning/syllabus.pdf\")\n",
    "\n",
    "print(textbook[0])"
   ]
  },
  {
   "cell_type": "markdown",
   "metadata": {},
   "source": [
    "## Create the json file on each of the chunks"
   ]
  },
  {
   "cell_type": "code",
   "execution_count": null,
   "metadata": {},
   "outputs": [],
   "source": [
    "def create_json(textbook_chunks):\n",
    "    data = []\n",
    "    for idx, chunk in enumerate(textbook_chunks):\n",
    "        data.append({\n",
    "            \"id\": str(idx),\n",
    "            \"title\": f\"Title for Chunk {idx}\",  # Placeholder title\n",
    "            \"content\": chunk,\n",
    "            \"category\": \"Category\"  # Placeholder category\n",
    "        })\n",
    "    return data\n"
   ]
  },
  {
   "cell_type": "code",
   "execution_count": null,
   "metadata": {},
   "outputs": [
    {
     "name": "stdout",
     "output_type": "stream",
     "text": [
      "[{'id': '0', 'title': 'Title for Chunk 0', 'content': ' \\n  \\nMcGee – MANA 4322.015 - Fall 2023 -- 1 \\n \\n \\nMANA 4322 Section 015: Strategic Management \\nFall 2023 \\nInstructor Information \\nInstructor:  Jeffrey E. McGee \\nOffice: COBA 229 \\nOffice Hours: By Appointment \\nOffice Telephone Number: (817) 272-3166 \\nFaculty Profile: http://www.uta.edu/profiles/jmcgee  \\nE-mail:  jmcgee@uta.edu \\nCourse Information \\nSection Information: MANA 4322-015  \\nTime and Place of Class Meetings: TuTH 11:00 a.m. - 12:30 p.m. COBA154.  \\nText: Essentials of Strategic Management: The Quest for Competitive Advantage, 7th Edition. \\nISBN10: 1264124333 | ISBN13: 9781264124336 ISBN10# 1260261549 and ISBN13# 97812660261547. (5th through \\n7th Editions will also be acceptable). Capstone® Business Simulation (online registration and fee). Download the \\nTeam Membership Guide from the website after registration. Capstone Business Simulation Online registration at \\nCapsim.com – ID# C145441. \\nDescription of Course Content  \\nStrategic Management, as a field of study, considers the overall direction of an enterprise. This course focuses on \\ncorporate and business unit-level strategy formulation and implementation. It', 'category': 'Category'}, {'id': '1', 'title': 'Title for Chunk 1', 'content': ' requires applying the knowledge and \\ntechniques learned in the earlier courses in an integrated fashion. The topics to be covered include the relationship of \\norganizations to their environments, organizational mission and objectives, systematic analysis of the external and \\ninternal environments of the firm using various theoretical frameworks, corporate-level and business-level strategies, \\nthe role of organizational structures and systems in the context of strategy formulation and implementation and the \\nmechanisms for monitoring and evaluating the effectiveness of strategic decisions and their implementation.  \\nThis course encourages an integrated, multifunctional, \"general management\" perspective of the organization and its \\nenvironment to develop skills necessary and appropriate to corporate-level and divisional-level policy analysis, \\nformulation, and implementation.  \\nThis is the capstone course for business majors. Prerequisite: ACCT 2301 and ACCT 2302, BUSA/STAT/BSTAT 3321, \\nECON 2305 and ECON 2306, FINA 3313, MANA 3318, and MARK 3321. One of the following junior-level courses may be \\ntaken concurrently: BSTAT 3321, FINA 3313, MANA 3318, or MARK 3321 \\nStudent Learning Objectives  \\n1. \\nConstruct a managerial perspective recognizing long-term and short-term organizational goals and multiple \\nstakeholders.  \\n2. \\nOrganize the diverse functional disciplines learned in earlier courses – finance, marketing, human resources, \\nand decision systems', 'category': 'Category'}, {'id': '2', 'title': 'Title for Chunk 2', 'content': \" – into one integrative perspective.  \\n3. \\nExplain the three major strategic management elements: strategy analysis, formulation, and implementation.  \\n4. \\nExplain the influence of global competition on firm strategy and performance.  \\n \\n  \\nMcGee – MANA 4322.015 - Fall 2023 -- 2 \\n \\n5. \\nExamine the business's internal and external environments using tools like Five Forces Analysis, Value Chain \\nAnalysis, and SWOT Analysis.  \\n6. \\nDevelop the capacity to communicate the results of a case analysis based on specific, actionable \\nrecommendations.  \\n7. \\nOutline the ethical and social dimensions of corporate actions.  \\n8. \\nIdentify a firm’s capabilities to develop and sustain a competitive advantage over its rivals. \\nStudent Learning Outcomes  \\nAfter completing the course, the student will be able to:  \\n1. \\nanalyze a particular business situation, \\n2. \\nidentify the significant problems, and \\n3. \\npropose and justify explicit realistic, effective, and efficient solutions.  \\nAchieving the Objectives \\nYou will be required to complete five activities to achieve the identified objectives: \\n1. \\nContribute to virtual case discussions. Please see Case Discussion Rubric and instructions on Canvas for \\nadditional details. Class Participation: CONTRIBUTE TO IN-CLASS DISCUSSIONS of chapters, videos, cases, and \\nlecture material by exhibiting (a) an understanding of the information presented and (b) skills in the \\n\", 'category': 'Category'}, {'id': '3', 'title': 'Title for Chunk 3', 'content': 'prerequisite course areas required for registration. \\nStudents are expected to participate in class discussions actively. Students are expected to read all the cases \\nand participate in case discussions, even if the case is not the one for which they are writing a report. \\nParticipation on these dates is critical to a good class participation grade.  Class participation will be \\nevaluated using the following criteria. \\n100% - Truly outstanding participation.  Contributed to each session’s discussion with well-thought-out ideas \\nand comments. \\n95% - Excellent participation.  Contributed regularly to discussions with reasonably well-developed ideas and \\ncomments. \\n85% - Good participation.  Contributed to most discussions with relevant comments. \\n75% - Average Participation. Attended class sessions and listened actively to discussions. Actual contributions \\nto the discussion were infrequent. \\n70% - Minimum level of Participation. Attended ALL class sessions but did not contribute to class discussions \\nat all. \\nSimply coming to class will not earn a satisfactory participation grade! I may call names during class, and you should \\nrespond to any questions I may ask. \\n2. \\nComplete Ten Chapter Quizzes.  You will be required to complete 10 brief quizzes containing ten multiple-\\nchoice questions about the assigned text reading. You will only be able to take each quiz during the specified \\ntime.  \\n3. \\nComplete Case-Based Exam. \\n4. \\nStudents will work in groups to perform Capstone®, a', 'category': 'Category'}, {'id': '4', 'title': 'Title for Chunk 4', 'content': ' simulation exercise.  Each group will have responsibility \\nfor one company.  Students will craft corporate- business-, and functional-level strategies.  The company \\nperformance grade will be assigned on a group basis and will be based on your company’s stock price. \\n5. \\nAnnual Report.  At the end of the simulation, each group will be required to submit an “Annual Report” \\ndescribing the company’s performance during the 8 years (rounds of operation) and the plans for the future. \\n \\n  \\nMcGee – MANA 4322.015 - Fall 2023 -- 3 \\n \\nPeer Evaluations: Students should submit a peer evaluation for the group case analysis report. Peer \\nevaluations are mandatory. Peer evaluations will adjust the group case analysis report grade. Not turning in \\nthe peer evaluation by the deadline will result in a self-evaluation of zero. More information on peer \\nevaluations is found below under “Grading Information.” \\n6. \\nCOB Proficiency Exam: The Association to Advance Collegiate Schools of Business (AACSB) and the Southern \\nAssociation of Colleges and Schools (SACS) require in their accreditation standards that academic units assess \\nstudent learning or measure the acquisition of knowledge and skills in a particular field of study.  Assurance of \\nlearning and program assessment is done in the context of a set of learning goals. Students in MANA 4322 will \\ntake the COB Business Exam. The major field test in', 'category': 'Category'}, {'id': '5', 'title': 'Title for Chunk 5', 'content': \" business contains objective (multiple-choice) questions.  \\nQuestions vary in difficulty over areas known as the 'common body of knowledge as specified by AACSB. This \\ncommon core includes topics from accounting, economics, management, information systems, operation \\nmanagement, real estate and finance, and marketing. \\nThe purpose of this exam is to:  \\na. \\nMeasure students' academic achievement in the multidisciplinary subject matter representative of \\nundergraduate business education.  \\nb. \\nProvide information to students regarding their level of achievement.  \\nc. \\nProvide information to faculties regarding the achievement of their students; information that the \\ninstitution can use to assess their performance relative to their specific mission and objectives.  \\nd. \\nProvide information to facilitate the development of appropriate goals and educational programs and \\nenhance undergraduate business education's accountability.  \\nThe COB Proficiency Exam covers the entire BBA degree and is administered as part of MANA 4322. There is \\nno preparation or study guide for the COB Exam. The COB Exam is proctored and requires students to bring \\ntheir own laptop equipped with RESPONDUS LOCKDOWN BROWSER. Note: For Fall 2023, we will apply the \\nsame COB Exam score adjustment used for Spring 2023 class sections, which was twenty (20) points. Students \\nwill see then added 20 points as a separate grade award labeled “COB EXAM ADJUSTMENT.”  \\nGrading \\nYour performance in the following\", 'category': 'Category'}, {'id': '6', 'title': 'Title for Chunk 6', 'content': ' activities will determine your final grade.  Their respective weights are as follows: \\n1. Participation \\n10% \\n2. Ten Chapter Quizzes \\n20% \\n3. Cased-Based Examination \\n25% \\n4. Capstone® – A Business Simulation* \\n \\n \\nCompany Performance \\n25% \\n \\nShareholder’s Meeting and Annual Report \\n10% \\nCOB Proficiency Exam \\n10% \\n \\n \\n \\nTOTAL  \\n \\n \\n \\n \\n \\n \\n \\n100% \\nIMPORTANT: Group and individual case analysis reports will be run through our plagiarism tool on Canvas: Unicheck. \\nIf your analysis is found to be a copy of someone else’s work, you will earn a ZERO in that case and will be sent to the \\nOffice of Student Conduct.  \\nAll assignments are due at specific times and dates. Turning assignments late may constitute a drop in grade, or the \\ninstructor may decide not to take the assignment. The final grade will be based on the requirements explained above.  \\nThe letter grade that you obtain in the course will be based on the numeric grade you obtain as follows: \\n \\n \\n \\n \\n  \\nMcGee – MANA 4322.015 - Fall 2023 -- 4 \\n \\nModule \\nDate \\nTopic/Assignment \\nModule \\n#1 \\n8/22 \\nCourse Introduction \\n8/24 \\nIntroduction to Capstone® \\n8/29 \\nCapstone® – Practice Decision #1 \\n8/31 \\nCapstone® – Practice Decision #2 \\nModule \\n#2', 'category': 'Category'}, {'id': '7', 'title': 'Title for Chunk 7', 'content': ' \\n9/5 \\nCapstone® – Practice Decision #3 \\n9/7 \\nChapter 1 – Strategy, Business Models, and Competitive Advantage \\nQuiz 1 \\n9/12 \\nChapter 2 – Strategy Formulation, Execution, and Governance \\nQuiz 2  \\n9/14 \\nCapstone® – Decision #1 \\n9/19 \\nChapter 3 – Evaluating a Company’s External Environment \\nQuiz 3  \\n9/21 \\nCapstone® – Decision #2 \\nModule \\n#3 \\n9/26 \\nCase – Panera Bread Company in 2014: Can a Slowdown in the Company’s Growth be Avoided? \\n9/28 \\nCapstone® – Decision #3 \\n10/3 \\nChapter 4 – Evaluating a Company’s Resources, Capabilities, and Competitiveness \\nQuiz 4 \\n10/5 \\nCapstone® – Decision #4 \\n10/10 \\nChapter 5 – Five Generic Competitive Strategies (Virtual Session) \\nQuiz 5 \\nCase – “Whole Foods Market in 2014: Vision, Core Values, and Strategy” \\n10/12 \\nCapstone® – Decision #5 \\n10/17 \\nEmployer Start-Up Panel – Room 152 \\n10/19 \\nCapstone® – Decision #6 \\nModule \\n#4 \\n10/24 \\nChapter 6 – Strengthening a Company’s Competitive Position: Strategic Moves, Timing, and \\nScope of Operations \\nQuiz 6', 'category': 'Category'}, {'id': '8', 'title': 'Title for Chunk 8', 'content': ' \\n10/26 \\nCapstone® – Decision #7 \\n10/31 \\nChapter 7 – Strategies for Competing in International Markets \\nQuiz 7 \\n11/2 \\nCapstone® – Decision #8 \\nModule \\n#5 \\n11/7 \\nCase – Deere & Company in 2015: Striving for Growth in a Weakening Global Agricultural \\nSector \\n11/9 \\nChapter 8 – Corporate Strategy: Diversification and the Multibusiness Company \\nQuiz 8 \\n11/14 \\nChapter 9 – Ethics, Corporate Social Responsibility, Environmental Sustainability, and Strategy \\nQuiz 9 \\n11/16 \\nCase – PepsiCo’s Diversification Strategy in 2014 \\nModule \\n#6 \\n11/21 \\nCapstone Debrief (Virtual Session) \\n11/23 \\nThanksgiving Holiday \\n11/28 \\nChapter 10 – Superior Strategy Execution—Another Path to Competitive Advantage \\nQuiz 10 \\n11/30 \\nShareholder Report (Simulation Presentation) \\nMavPitch – 4:30 until 7:30 (Extra Credit Opportunity) \\nModule \\n#7 \\n12/5 \\nCapstone® Report \\nCase-Based Exam Due \\n12/7 \\nCOB Proficiency Exam (11:00-1:30) \\n \\n \\n \\n \\n \\n  \\nMcGee – MANA 4322.015 - Fall 2023 -- 5 \\n \\nAbout the Instructor \\nDr. Jeffrey E. McGee is a Full Professor', 'category': 'Category'}, {'id': '9', 'title': 'Title for Chunk 9', 'content': ' of Management and Maverick Entrepreneurship \\nFellow at the University of Texas at Arlington. He holds a Ph.D. in management from the \\nUniversity of Georgia and teaches strategic management and entrepreneurship courses \\nfor the UT Arlington MBA program. Dr. McGee also regularly teaches similar courses for \\nthe Executive MBA program in Taiwan. \\nDr. McGee’s primary research interests focus on strategic management and \\nentrepreneurship. His work appears in over 45 journals, including Management Science, \\nEntrepreneurship: Theory & Practice, Strategic Organization, Journal of Business Venturing, Strategic Management \\nJournal, and Journal of Applied Business Research. He has presented over 75 papers at some of the most prestigious \\nacademic conferences, including the Academy of Management. Dr. McGee has also been cited in the New York Times, \\nFort Worth Star-Telegram, Dallas Morning News, and other news publications. \\nDr. McGee served as the Chair of the Department of Management at UT Arlington from 2001 through 2010. He \\nregularly consults with entrepreneurial ventures in the Dallas-Fort Worth Metroplex on various management-related \\nissues. \\nInstitution Information \\nUTA students are encouraged to review the institutional policies and informational sections below and contact the \\nspecific office with any questions. To view this institutional information, please visit the Institutional Information page \\n(http://www.uta.edu/provost/administrative-forms/course-syllabus/index.php ), which includes the following policies, \\n', 'category': 'Category'}, {'id': '10', 'title': 'Title for Chunk 10', 'content': 'among others: \\n• \\nDrop Policy \\n• \\nDisability Accommodations \\n• \\nTitle IX Policy \\n• \\nAcademic Integrity \\n• \\nStudent Feedback Survey \\n• \\nFinal Exam Schedule \\nAdditional Information \\nFace Covering Policy \\nWhile the use of face coverings on campus is no longer mandatory, all students and instructional staff are strongly \\nencouraged to wear face coverings while they are on campus. This is particularly true inside buildings and within \\nclassrooms and labs where social distancing is impossible due to limited space. If a student needs accommodations to \\nensure social distancing in the classroom due to being at high risk, they are encouraged to work directly with the \\nStudent Access and Resource Center to assist in these accommodations. If students need masks, they may obtain them \\nat the Central Library, the E.H. Hereford University Center’s front desk, or in their department. \\nAttendance \\nAt The University of Texas at Arlington, taking attendance is not required, but attendance is a critical indicator of \\nstudent success. However, while UT Arlington does not require instructors to take attendance in their courses, the U.S. \\nDepartment of Education requires that the University have a mechanism in place to mark when Federal Student Aid \\nrecipients “begin attendance in a course.” UT Arlington instructors will report when students begin attendance in a \\ncourse as part of the final grading process. Specifically, when assigning a student a grade of F, the faculty report the last \\ndate a student attended their', 'category': 'Category'}, {'id': '11', 'title': 'Title for Chunk 11', 'content': ' class based on evidence such as a test, participation in a class project or presentation, or \\nan engagement online via Canvas. This data is reported to the Department of Education for federal financial aid \\nrecipients. \\nAcademic Success Center \\nThe Academic Success Center (ASC) includes a variety of resources and services to help you maximize your learning and \\nsucceed as a student at the University of Texas at Arlington.  ASC services include supplemental instruction, peer-led \\n \\n  \\nMcGee – MANA 4322.015 - Fall 2023 -- 6 \\n \\nteam learning, tutoring, mentoring, and TRIO SSS.  Academic Success Center services are provided at no additional cost \\nto UTA students. For additional information, visit:  Academic Success Center.  To request disability accommodations for \\ntutoring, please complete this form. \\nUTA College of Business Exam \\nThe UTA College of Business Exam covers material drawn from the core business classes for the UTA Bachelor of \\nBusiness Administration. The business core includes accounting, economics, organizational behavior, quantitative \\nbusiness analysis, information systems, operations management, finance, marketing, business law, and strategic \\nmanagement. \\nMANA 4322 COB Exam Information & Policies \\n \\nExam Details \\nPurpose: Assess your understanding of core subjects in UTA undergraduate business education, \\nmarking a key step of achievement in your academic career. \\nTopic: Material from the core business classes, including accounting, economics, information \\nsystems', 'category': 'Category'}, {'id': '12', 'title': 'Title for Chunk 12', 'content': ', business statistics, finance, marketing, business law, and management. A list of specific \\ntopics will be provided. \\nWhen & Where: [Insert scheduled final exam date/time for your class and building/room number] \\n(2-hour time limit). \\nFormat: 72 questions shown one at a time & and locked after answering. \\nThe calculator will be Provided through Respondus Browser: Do not bring any personal calculators \\nor other prohibited materials. \\nWeight: 10% of final grade. \\nAdditional details will be provided in Canvas throughout the semester. \\nWhat to Bring \\nFully charged Laptop/iPad with Respondus Lockdown Browser:  \\nNeed a laptop? You can borrow one from the UTA Library. \\nDownload Respondus here: A non-graded Respondus quiz will be provided in Canvas so \\nyou can check that it is working before the exam. \\nStudent ID: Attendance will be taken. \\nCanvas username & password: Needed to connect to Internet & Exam. \\nConduct & \\nIntegrity \\nProhibited Items: calculators, smartwatches, tablets, cellphones, misc. electronics, notes, brimmed \\nhats, bags, and drinks are strictly prohibited. \\nFollow all In-Class Rules: When entering, put all belongings on the side of the room. No talking. Any \\nstudent caught cheating / with prohibited items will earn a 0. \\nPunctuality: Plan to arrive early. If you arrive late, your', 'category': 'Category'}, {'id': '13', 'title': 'Title for Chunk 13', 'content': ' available exam time may be reduced. You \\nmust submit the exam once the scheduled class time ends, even if you still have some of the 2-hour \\ntest time left. \\nFeedback: To preserve the integrity of this exam, students will NOT be able to review exam \\nquestions/answers under any circumstances.  \\n \\n  \\nMcGee – MANA 4322.015 - Fall 2023 -- 7 \\n \\nSpecial \\nConsiderations \\nExtra Credit: An optional survey, if completed by the last day of class, will earn you extra credit \\nequivalent to 5 points on your COB exam score (which will be out of 100 points). This extra credit \\nwill be applied solely to the COB exam and not to your overall course grade. Additional details will \\nbe provided later in the semester. \\nSAR Accommodations: Coordinate with your professor and the SAR testing center at the beginning \\nof the semester if you have any accommodations. \\nEmergency Situations: If an emergency prevents you from attending, contact your professor as \\nsoon as possible with documentation for an excused absence and accommodation. \\nUnexcused Absences: Tests for students who miss the scheduled test time without excused \\nabsences may be rescheduled and given up to 50% credit. \\n \\n \\n \\n', 'category': 'Category'}]\n"
     ]
    }
   ],
   "source": [
    "textbook_data = create_json(chunks)\n",
    "print(textbook_data)\n",
    "with open(\"sample_text_syllabus.json\", \"w\") as json_file:\n",
    "    json.dump(textbook_data, json_file, indent=4)\n"
   ]
  },
  {
   "cell_type": "markdown",
   "metadata": {},
   "source": [
    "## Get all the files paths in all_chapters_pdf\n",
    "Chapter chunking"
   ]
  },
  {
   "cell_type": "code",
   "execution_count": null,
   "metadata": {},
   "outputs": [],
   "source": [
    "# Generate Document Embeddings using OpenAI Ada 002\n",
    "\n",
    "\n",
    "directory_path = '../data-cleaning/all_chapters_pdf/'\n",
    "files = []\n",
    "\n",
    "for filename in os.listdir(directory_path):\n",
    "    file_path = os.path.join(directory_path, filename)\n",
    "\n",
    "    if os.path.isfile(file_path) and file_path.endswith(\".pdf\"):\n",
    "        files.append(file_path)\n",
    "\n",
    "\n"
   ]
  },
  {
   "attachments": {},
   "cell_type": "markdown",
   "metadata": {},
   "source": [
    "## Create embeddings\n",
    "Read your data, generate OpenAI embeddings and export to a format to insert your Azure Cognitive Search index:"
   ]
  },
  {
   "cell_type": "code",
   "execution_count": null,
   "metadata": {},
   "outputs": [],
   "source": [
    "# Function to generate embeddings for title and content fields, also used for query embeddings\n",
    "@sleep_and_retry\n",
    "@limits(calls=100, period=5)\n",
    "def generate_embeddings(text):\n",
    "    response = openai.Embedding.create(\n",
    "        input=text, engine=\"plutolearning-embeddings\")\n",
    "    embeddings = response['data'][0]['embedding']\n",
    "    return embeddings\n"
   ]
  },
  {
   "cell_type": "markdown",
   "metadata": {},
   "source": [
    "## Load the JSON file and create the embeddings\n"
   ]
  },
  {
   "cell_type": "code",
   "execution_count": null,
   "metadata": {},
   "outputs": [],
   "source": [
    "with open('./sample_text_syllabus.json', 'r', encoding='utf-8') as file:\n",
    "    input_data = json.load(file)\n",
    "\n",
    "for item in input_data:\n",
    "    title = item['title']\n",
    "    content = item['content']\n",
    "    content_embeddings = generate_embeddings(content)\n",
    "    item['vector'] = content_embeddings\n",
    "\n",
    "# Output embeddings to docVectors.json file\n",
    "with open(\"./docVectorsSyllabus.json\", \"w\") as f:\n",
    "    json.dump(input_data, f)"
   ]
  },
  {
   "attachments": {},
   "cell_type": "markdown",
   "metadata": {},
   "source": [
    "## Create your search index\n",
    "Create your search index schema and vector search configuration:"
   ]
  },
  {
   "cell_type": "code",
   "execution_count": 6,
   "metadata": {},
   "outputs": [
    {
     "name": "stdout",
     "output_type": "stream",
     "text": [
      "new-pluto-demo\n"
     ]
    }
   ],
   "source": [
    "# Create a search index\n",
    "index_client = SearchIndexClient(endpoint=service_endpoint, credential=credential)\n",
    "\n",
    "fields = [\n",
    "    SimpleField(name=\"id\", type=SearchFieldDataType.String, key=True, sortable=True, filterable=True, facetable=True),\n",
    "    SearchableField(name=\"title\", type=SearchFieldDataType.String),\n",
    "    SearchableField(name=\"content\", type=SearchFieldDataType.String),\n",
    "    SearchableField(name=\"category\", type=SearchFieldDataType.String,\n",
    "                    filterable=True),\n",
    "    SearchField(name=\"vector\", type=SearchFieldDataType.Collection(SearchFieldDataType.Single),\n",
    "                searchable=True, vector_search_dimensions=1536, vector_search_profile=\"myHnswProfile\"),\n",
    "]\n",
    "\n",
    "# Configure the vector search configuration  \n",
    "vector_search = VectorSearch(\n",
    "    algorithms=[\n",
    "        HnswVectorSearchAlgorithmConfiguration(\n",
    "            name=\"myHnsw\",\n",
    "            kind=VectorSearchAlgorithmKind.HNSW,\n",
    "            parameters=HnswParameters(\n",
    "                m=4,\n",
    "                ef_construction=400,\n",
    "                ef_search=500,\n",
    "                metric=\"cosine\"\n",
    "            )\n",
    "        ),\n",
    "        ExhaustiveKnnVectorSearchAlgorithmConfiguration(\n",
    "            name=\"myExhaustiveKnn\",\n",
    "            kind=VectorSearchAlgorithmKind.EXHAUSTIVE_KNN,\n",
    "            parameters=ExhaustiveKnnParameters(\n",
    "                metric=\"cosine\"\n",
    "            )\n",
    "        )\n",
    "    ],\n",
    "    profiles=[\n",
    "        VectorSearchProfile(\n",
    "            name=\"myHnswProfile\",\n",
    "            algorithm=\"myHnsw\",\n",
    "            vectorizer=\"myOpenAI\"\n",
    "        ),\n",
    "        VectorSearchProfile(\n",
    "            name=\"myExhaustiveKnnProfile\",\n",
    "            algorithm=\"myExhaustiveKnn\",\n",
    "            vectorizer=\"myOpenAI\"\n",
    "        )\n",
    "    ],\n",
    "    vectorizers=[\n",
    "        AzureOpenAIVectorizer(\n",
    "            name=\"myOpenAI\",\n",
    "            kind=\"azureOpenAI\",\n",
    "            azure_open_ai_parameters=AzureOpenAIParameters(\n",
    "                resource_uri=os.getenv(\"AZURE_OPENAI_ENDPOINT\"),\n",
    "                deployment_id=model,\n",
    "                api_key=os.getenv(\"AZURE_OPENAI_API_KEY\")\n",
    "            )\n",
    "    )  \n",
    "]  \n",
    "\n",
    ")\n",
    "semantic_settings = SemanticSettings(configurations=[])\n",
    "\n",
    "# Create the search index with the semantic settings\n",
    "index = SearchIndex(name=index_name, fields=fields, vector_search=vector_search, semantic_settings=semantic_settings)\n",
    "result = index_client.create_or_update_index(index)\n",
    "\n",
    "print(result.name)\n"
   ]
  },
  {
   "attachments": {},
   "cell_type": "markdown",
   "metadata": {},
   "source": [
    "## Insert text and embeddings into vector store\n",
    "Add texts and metadata from the JSON data to the vector store:"
   ]
  },
  {
   "cell_type": "code",
   "execution_count": 7,
   "metadata": {},
   "outputs": [
    {
     "name": "stdout",
     "output_type": "stream",
     "text": [
      "Uploaded 1097 documents\n"
     ]
    }
   ],
   "source": [
    "# Upload some documents to the index\n",
    "with open('./docVectors.json', 'r') as file:  \n",
    "    documents = json.load(file)  \n",
    "search_client = SearchClient(endpoint=service_endpoint, index_name=index_name, credential=credential)\n",
    "result = search_client.upload_documents(documents)\n",
    "print(f\"Uploaded {len(documents)} documents\") "
   ]
  },
  {
   "cell_type": "markdown",
   "metadata": {},
   "source": [
    "If you are indexing a very large number of documents, you can use the `SearchIndexingBufferedSender` which is an optimized way to automatically index the docs as it will handle the batching for you:"
   ]
  },
  {
   "cell_type": "code",
   "execution_count": null,
   "metadata": {},
   "outputs": [
    {
     "name": "stdout",
     "output_type": "stream",
     "text": [
      "Uploaded 108 documents in total\n"
     ]
    }
   ],
   "source": [
    "# Upload some documents to the index  \n",
    "with open('../output/docVectors.json', 'r') as file:  \n",
    "    documents = json.load(file)  \n",
    "  \n",
    "# Use SearchIndexingBufferedSender to upload the documents in batches optimized for indexing  \n",
    "with SearchIndexingBufferedSender(  \n",
    "    endpoint=service_endpoint,  \n",
    "    index_name=index_name,  \n",
    "    credential=credential,  \n",
    ") as batch_client:  \n",
    "    # Add upload actions for all documents  \n",
    "    batch_client.upload_documents(documents=documents)  \n",
    "print(f\"Uploaded {len(documents)} documents in total\")  \n"
   ]
  },
  {
   "attachments": {},
   "cell_type": "markdown",
   "metadata": {},
   "source": [
    "## Perform a vector similarity search"
   ]
  },
  {
   "cell_type": "markdown",
   "metadata": {},
   "source": [
    "This example shows a pure vector search using the vectorizable text query, all you need to do is pass in text and your vectorizer will handle the query vectorization."
   ]
  },
  {
   "cell_type": "code",
   "execution_count": null,
   "metadata": {},
   "outputs": [
    {
     "name": "stdout",
     "output_type": "stream",
     "text": [
      "Title: Azure DevOps\n",
      "Score: 0.82971567\n",
      "Content: Azure DevOps is a suite of services that help you plan, build, and deploy applications. It includes Azure Boards for work item tracking, Azure Repos for source code management, Azure Pipelines for continuous integration and continuous deployment, Azure Test Plans for manual and automated testing, and Azure Artifacts for package management. DevOps supports a wide range of programming languages, frameworks, and platforms, making it easy to integrate with your existing development tools and processes. It also integrates with other Azure services, such as Azure App Service and Azure Functions.\n",
      "Category: Developer Tools\n",
      "\n",
      "Title: Azure DevTest Labs\n",
      "Score: 0.81866795\n",
      "Content: Azure DevTest Labs is a fully managed service that enables you to create, manage, and share development and test environments in Azure. It provides features like custom templates, cost management, and integration with Azure DevOps. DevTest Labs supports various platforms, such as Windows, Linux, and Kubernetes. You can use Azure DevTest Labs to improve your application development lifecycle, reduce your costs, and ensure the consistency of your environments. It also integrates with other Azure services, such as Azure Virtual Machines and Azure App Service.\n",
      "Category: Developer Tools\n",
      "\n",
      "Title: Azure Application Insights\n",
      "Score: 0.8022945\n",
      "Content: Azure Application Insights is an application performance management service that enables you to monitor, diagnose, and troubleshoot your applications and infrastructure. It provides features like real-time telemetry, dependency mapping, and live metrics. Application Insights supports various platforms, such as .NET, Java, Node.js, and Python. You can use Azure Application Insights to detect and diagnose issues, optimize your performance, and ensure the availability of your applications. It also integrates with other Azure services, such as Azure Monitor and Azure Log Analytics.\n",
      "Category: Management + Governance\n",
      "\n"
     ]
    }
   ],
   "source": [
    "# Pure Vector Search\n",
    "query = \"tools for software development\"  \n",
    "  \n",
    "search_client = SearchClient(service_endpoint, index_name, credential=credential)\n",
    "vector_query = VectorizableTextQuery(text=query, k=3, fields=\"vector\")\n",
    "# Use the below query to pass in the raw vector query instead of the query vectorization\n",
    "# vector_query = RawVectorQuery(vector=generate_embeddings(query), k=3, fields=\"contentVector\")\n",
    "  \n",
    "results = search_client.search(  \n",
    "    search_text=None,  \n",
    "    vector_queries= [vector_query],\n",
    "    select=[\"title\", \"content\", \"category\"],\n",
    ")  \n",
    "  \n",
    "for result in results:  \n",
    "    print(f\"Title: {result['title']}\")  \n",
    "    print(f\"Score: {result['@search.score']}\")  \n",
    "    print(f\"Content: {result['content']}\")  \n",
    "    print(f\"Category: {result['category']}\\n\")  \n"
   ]
  },
  {
   "cell_type": "markdown",
   "metadata": {},
   "source": [
    "This example shows a pure vector search using a raw vector query, in this example, you are responsible for generating the query vector."
   ]
  },
  {
   "cell_type": "code",
   "execution_count": null,
   "metadata": {},
   "outputs": [
    {
     "name": "stdout",
     "output_type": "stream",
     "text": [
      "Title: Azure DevOps\n",
      "Score: 0.82971567\n",
      "Content: Azure DevOps is a suite of services that help you plan, build, and deploy applications. It includes Azure Boards for work item tracking, Azure Repos for source code management, Azure Pipelines for continuous integration and continuous deployment, Azure Test Plans for manual and automated testing, and Azure Artifacts for package management. DevOps supports a wide range of programming languages, frameworks, and platforms, making it easy to integrate with your existing development tools and processes. It also integrates with other Azure services, such as Azure App Service and Azure Functions.\n",
      "Category: Developer Tools\n",
      "\n",
      "Title: Azure DevTest Labs\n",
      "Score: 0.81866795\n",
      "Content: Azure DevTest Labs is a fully managed service that enables you to create, manage, and share development and test environments in Azure. It provides features like custom templates, cost management, and integration with Azure DevOps. DevTest Labs supports various platforms, such as Windows, Linux, and Kubernetes. You can use Azure DevTest Labs to improve your application development lifecycle, reduce your costs, and ensure the consistency of your environments. It also integrates with other Azure services, such as Azure Virtual Machines and Azure App Service.\n",
      "Category: Developer Tools\n",
      "\n",
      "Title: Azure Application Insights\n",
      "Score: 0.8022945\n",
      "Content: Azure Application Insights is an application performance management service that enables you to monitor, diagnose, and troubleshoot your applications and infrastructure. It provides features like real-time telemetry, dependency mapping, and live metrics. Application Insights supports various platforms, such as .NET, Java, Node.js, and Python. You can use Azure Application Insights to detect and diagnose issues, optimize your performance, and ensure the availability of your applications. It also integrates with other Azure services, such as Azure Monitor and Azure Log Analytics.\n",
      "Category: Management + Governance\n",
      "\n"
     ]
    }
   ],
   "source": [
    "# Pure Vector Search\n",
    "query = \"tools for software development\"  \n",
    "  \n",
    "search_client = SearchClient(service_endpoint, index_name, credential=credential)\n",
    "# Use the below query to pass in the raw vector query instead of the query vectorization\n",
    "vector_query = RawVectorQuery(vector=generate_embeddings(query), k=3, fields=\"contentVector\")\n",
    "  \n",
    "results = search_client.search(  \n",
    "    search_text=None,  \n",
    "    vector_queries= [vector_query],\n",
    "    select=[\"title\", \"content\", \"category\"],\n",
    ")  \n",
    "  \n",
    "for result in results:  \n",
    "    print(f\"Title: {result['title']}\")  \n",
    "    print(f\"Score: {result['@search.score']}\")  \n",
    "    print(f\"Content: {result['content']}\")  \n",
    "    print(f\"Category: {result['category']}\\n\")  \n"
   ]
  },
  {
   "cell_type": "markdown",
   "metadata": {},
   "source": [
    "This example shows a pure vector search to demonstrate OpenAI's text-embedding-ada-002 multilingual capabilities."
   ]
  },
  {
   "cell_type": "code",
   "execution_count": null,
   "metadata": {},
   "outputs": [
    {
     "name": "stdout",
     "output_type": "stream",
     "text": [
      "Title: Azure DevOps\n",
      "Score: 0.80402017\n",
      "Content: Azure DevOps is a suite of services that help you plan, build, and deploy applications. It includes Azure Boards for work item tracking, Azure Repos for source code management, Azure Pipelines for continuous integration and continuous deployment, Azure Test Plans for manual and automated testing, and Azure Artifacts for package management. DevOps supports a wide range of programming languages, frameworks, and platforms, making it easy to integrate with your existing development tools and processes. It also integrates with other Azure services, such as Azure App Service and Azure Functions.\n",
      "Category: Developer Tools\n",
      "\n",
      "Title: Azure DevTest Labs\n",
      "Score: 0.7967943\n",
      "Content: Azure DevTest Labs is a fully managed service that enables you to create, manage, and share development and test environments in Azure. It provides features like custom templates, cost management, and integration with Azure DevOps. DevTest Labs supports various platforms, such as Windows, Linux, and Kubernetes. You can use Azure DevTest Labs to improve your application development lifecycle, reduce your costs, and ensure the consistency of your environments. It also integrates with other Azure services, such as Azure Virtual Machines and Azure App Service.\n",
      "Category: Developer Tools\n",
      "\n",
      "Title: Azure Mobile Apps\n",
      "Score: 0.79512894\n",
      "Content: Azure Mobile Apps is a mobile app development platform that enables you to build, test, deploy, and monitor your mobile applications. It provides features like offline data sync, push notifications, and user authentication. Mobile Apps supports various platforms, including iOS, Android, and Windows. You can use Mobile Apps to build cross-platform applications, integrate with other Azure services, and improve your app development lifecycle. It also integrates with other Azure services, such as Azure Notification Hubs and Azure App Service.\n",
      "Category: Mobile\n",
      "\n"
     ]
    }
   ],
   "source": [
    "# Pure Vector Search multi-lingual (e.g 'tools for software development' in Dutch)  \n",
    "query = \"tools voor softwareontwikkeling\"  \n",
    "  \n",
    "search_client = SearchClient(service_endpoint, index_name, credential=credential)\n",
    "vector_query = VectorizableTextQuery(text=query, k=3, fields=\"contentVector\")\n",
    "# Use the below query to pass in the raw vector query instead of the query vectorization\n",
    "# vector_query = RawVectorQuery(vector=generate_embeddings(query), k=3, fields=\"contentVector\")\n",
    "  \n",
    "results = search_client.search(  \n",
    "    search_text=None,  \n",
    "    vector_queries= [vector_query],\n",
    "    select=[\"title\", \"content\", \"category\"],\n",
    ")  \n",
    "  \n",
    "for result in results:  \n",
    "    print(f\"Title: {result['title']}\")  \n",
    "    print(f\"Score: {result['@search.score']}\")  \n",
    "    print(f\"Content: {result['content']}\")  \n",
    "    print(f\"Category: {result['category']}\\n\")  \n",
    "\n"
   ]
  },
  {
   "cell_type": "markdown",
   "metadata": {},
   "source": [
    "## Perform an Exhaustive KNN exact nearest neighbor search"
   ]
  },
  {
   "cell_type": "markdown",
   "metadata": {},
   "source": [
    "This example shows how you can exhaustively search your vector index regardless of what index you have, HNSW or ExhaustiveKNN. You can use this to calculate the ground-truth values."
   ]
  },
  {
   "cell_type": "code",
   "execution_count": null,
   "metadata": {},
   "outputs": [
    {
     "name": "stdout",
     "output_type": "stream",
     "text": [
      "Title: Azure DevOps\n",
      "Score: 0.8297154\n",
      "Content: Azure DevOps is a suite of services that help you plan, build, and deploy applications. It includes Azure Boards for work item tracking, Azure Repos for source code management, Azure Pipelines for continuous integration and continuous deployment, Azure Test Plans for manual and automated testing, and Azure Artifacts for package management. DevOps supports a wide range of programming languages, frameworks, and platforms, making it easy to integrate with your existing development tools and processes. It also integrates with other Azure services, such as Azure App Service and Azure Functions.\n",
      "Category: Developer Tools\n",
      "\n",
      "Title: Azure DevTest Labs\n",
      "Score: 0.8186685\n",
      "Content: Azure DevTest Labs is a fully managed service that enables you to create, manage, and share development and test environments in Azure. It provides features like custom templates, cost management, and integration with Azure DevOps. DevTest Labs supports various platforms, such as Windows, Linux, and Kubernetes. You can use Azure DevTest Labs to improve your application development lifecycle, reduce your costs, and ensure the consistency of your environments. It also integrates with other Azure services, such as Azure Virtual Machines and Azure App Service.\n",
      "Category: Developer Tools\n",
      "\n",
      "Title: Azure Application Insights\n",
      "Score: 0.8022949\n",
      "Content: Azure Application Insights is an application performance management service that enables you to monitor, diagnose, and troubleshoot your applications and infrastructure. It provides features like real-time telemetry, dependency mapping, and live metrics. Application Insights supports various platforms, such as .NET, Java, Node.js, and Python. You can use Azure Application Insights to detect and diagnose issues, optimize your performance, and ensure the availability of your applications. It also integrates with other Azure services, such as Azure Monitor and Azure Log Analytics.\n",
      "Category: Management + Governance\n",
      "\n"
     ]
    }
   ],
   "source": [
    "# Pure Vector Search\n",
    "query = \"tools for software development\"  \n",
    "  \n",
    "search_client = SearchClient(service_endpoint, index_name, credential=credential)\n",
    "vector_query = VectorizableTextQuery(text=query, k=3, fields=\"contentVector\", exhaustive=True)\n",
    "# Use the below query to pass in the raw vector query instead of the query vectorization\n",
    "# vector_query = RawVectorQuery(vector=generate_embeddings(query), k=3, fields=\"contentVector\")\n",
    "  \n",
    "results = search_client.search(  \n",
    "    search_text=None,  \n",
    "    vector_queries= [vector_query],\n",
    "    select=[\"title\", \"content\", \"category\"],\n",
    ")  \n",
    "  \n",
    "for result in results:  \n",
    "    print(f\"Title: {result['title']}\")  \n",
    "    print(f\"Score: {result['@search.score']}\")  \n",
    "    print(f\"Content: {result['content']}\")  \n",
    "    print(f\"Category: {result['category']}\\n\")  \n"
   ]
  },
  {
   "cell_type": "markdown",
   "metadata": {},
   "source": [
    "## Perform a Cross-Field Vector Search\n",
    "\n",
    "This example shows a cross-field vector search that allows you to query multiple vector fields at the same time. Note, ensure that the same embedding model was used for the vector fields you decide to query."
   ]
  },
  {
   "cell_type": "code",
   "execution_count": null,
   "metadata": {},
   "outputs": [
    {
     "name": "stdout",
     "output_type": "stream",
     "text": [
      "Title: Azure DevOps\n",
      "Score: 0.03333333507180214\n",
      "Content: Azure DevOps is a suite of services that help you plan, build, and deploy applications. It includes Azure Boards for work item tracking, Azure Repos for source code management, Azure Pipelines for continuous integration and continuous deployment, Azure Test Plans for manual and automated testing, and Azure Artifacts for package management. DevOps supports a wide range of programming languages, frameworks, and platforms, making it easy to integrate with your existing development tools and processes. It also integrates with other Azure services, such as Azure App Service and Azure Functions.\n",
      "Category: Developer Tools\n",
      "\n",
      "Title: Azure DevTest Labs\n",
      "Score: 0.032786883413791656\n",
      "Content: Azure DevTest Labs is a fully managed service that enables you to create, manage, and share development and test environments in Azure. It provides features like custom templates, cost management, and integration with Azure DevOps. DevTest Labs supports various platforms, such as Windows, Linux, and Kubernetes. You can use Azure DevTest Labs to improve your application development lifecycle, reduce your costs, and ensure the consistency of your environments. It also integrates with other Azure services, such as Azure Virtual Machines and Azure App Service.\n",
      "Category: Developer Tools\n",
      "\n",
      "Title: Azure Application Insights\n",
      "Score: 0.016129031777381897\n",
      "Content: Azure Application Insights is an application performance management service that enables you to monitor, diagnose, and troubleshoot your applications and infrastructure. It provides features like real-time telemetry, dependency mapping, and live metrics. Application Insights supports various platforms, such as .NET, Java, Node.js, and Python. You can use Azure Application Insights to detect and diagnose issues, optimize your performance, and ensure the availability of your applications. It also integrates with other Azure services, such as Azure Monitor and Azure Log Analytics.\n",
      "Category: Management + Governance\n",
      "\n",
      "Title: Azure Static Web Apps\n",
      "Score: 0.016129031777381897\n",
      "Content: Azure Static Web Apps is a serverless hosting service that enables you to build and deploy modern web applications using static front-end technologies and serverless APIs. It provides features like custom domains, SSL certificates, and integration with Azure Functions. Static Web Apps supports various frameworks, such as React, Angular, and Vue.js. You can use Azure Static Web Apps to build and deploy your web applications, ensure high performance and security, and simplify your development workflow. It also integrates with other Azure services, such as Azure App Service and Azure CDN.\n",
      "Category: Web\n",
      "\n"
     ]
    }
   ],
   "source": [
    "# Pure Vector Search\n",
    "query = \"tools for software development\"  \n",
    "  \n",
    "search_client = SearchClient(service_endpoint, index_name, credential=credential)\n",
    "vector_query = VectorizableTextQuery(text=query, k=3, fields=\"titleVector, contentVector\")\n",
    "# Use the below query to pass in the raw vector query instead of the query vectorization\n",
    "# vector_query = RawVectorQuery(vector=generate_embeddings(query), k=3, fields=\"titleVector, contentVector\")\n",
    "  \n",
    "results = search_client.search(  \n",
    "    search_text=None,  \n",
    "    vector_queries= [vector_query],\n",
    "    select=[\"title\", \"content\", \"category\"],\n",
    ")  \n",
    "  \n",
    "for result in results:  \n",
    "    print(f\"Title: {result['title']}\")  \n",
    "    print(f\"Score: {result['@search.score']}\")  \n",
    "    print(f\"Content: {result['content']}\")  \n",
    "    print(f\"Category: {result['category']}\\n\")  \n"
   ]
  },
  {
   "cell_type": "markdown",
   "metadata": {},
   "source": [
    "## Perform a Multi-Vector Search\n",
    "\n",
    "This example shows a cross-field vector search that allows you to query multiple vector fields at the same time by passing in multiple query vectors. Note, in this case, you can pass in query vectors from two different embedding models to the corresponding vector fields in your index."
   ]
  },
  {
   "cell_type": "code",
   "execution_count": null,
   "metadata": {},
   "outputs": [
    {
     "name": "stdout",
     "output_type": "stream",
     "text": [
      "Title: Azure DevOps\n",
      "Score: 0.03333333507180214\n",
      "Content: Azure DevOps is a suite of services that help you plan, build, and deploy applications. It includes Azure Boards for work item tracking, Azure Repos for source code management, Azure Pipelines for continuous integration and continuous deployment, Azure Test Plans for manual and automated testing, and Azure Artifacts for package management. DevOps supports a wide range of programming languages, frameworks, and platforms, making it easy to integrate with your existing development tools and processes. It also integrates with other Azure services, such as Azure App Service and Azure Functions.\n",
      "Category: Developer Tools\n",
      "\n",
      "Title: Azure DevTest Labs\n",
      "Score: 0.032786883413791656\n",
      "Content: Azure DevTest Labs is a fully managed service that enables you to create, manage, and share development and test environments in Azure. It provides features like custom templates, cost management, and integration with Azure DevOps. DevTest Labs supports various platforms, such as Windows, Linux, and Kubernetes. You can use Azure DevTest Labs to improve your application development lifecycle, reduce your costs, and ensure the consistency of your environments. It also integrates with other Azure services, such as Azure Virtual Machines and Azure App Service.\n",
      "Category: Developer Tools\n",
      "\n",
      "Title: Azure Static Web Apps\n",
      "Score: 0.032258063554763794\n",
      "Content: Azure Static Web Apps is a serverless hosting service that enables you to build and deploy modern web applications using static front-end technologies and serverless APIs. It provides features like custom domains, SSL certificates, and integration with Azure Functions. Static Web Apps supports various frameworks, such as React, Angular, and Vue.js. You can use Azure Static Web Apps to build and deploy your web applications, ensure high performance and security, and simplify your development workflow. It also integrates with other Azure services, such as Azure App Service and Azure CDN.\n",
      "Category: Web\n",
      "\n"
     ]
    }
   ],
   "source": [
    "# Multi-Vector Search\n",
    "query = \"tools for software development\"  \n",
    "  \n",
    "search_client = SearchClient(service_endpoint, index_name, credential=credential)  \n",
    "vector_query_1 = VectorizableTextQuery(text=query, k=3, fields=\"titleVector\") \n",
    "vector_query_2 = VectorizableTextQuery(text=query, k=3, fields=\"contentVector\")  \n",
    "# vector_query_1 = RawVectorQuery(vector=generate_embeddings(query), k=3, fields=\"titleVector\") \n",
    "# vector_query_2 = RawVectorQuery(vector=generate_embeddings(query), k=3, fields=\"contentVector\")  \n",
    "  \n",
    "results = search_client.search(  \n",
    "    search_text=None,  \n",
    "    vector_queries=[vector_query_1, vector_query_1],\n",
    "    select=[\"title\", \"content\", \"category\"],\n",
    ")  \n",
    "  \n",
    "for result in results:  \n",
    "    print(f\"Title: {result['title']}\")  \n",
    "    print(f\"Score: {result['@search.score']}\")  \n",
    "    print(f\"Content: {result['content']}\")  \n",
    "    print(f\"Category: {result['category']}\\n\")  \n"
   ]
  },
  {
   "attachments": {},
   "cell_type": "markdown",
   "metadata": {},
   "source": [
    "## Perform a Pure Vector Search with a filter\n",
    "This example shows how to apply filters on your index. Note, that you can choose whether you want to use Pre-Filtering (default) or Post-Filtering."
   ]
  },
  {
   "cell_type": "code",
   "execution_count": null,
   "metadata": {},
   "outputs": [
    {
     "name": "stdout",
     "output_type": "stream",
     "text": [
      "Title: Azure DevOps\n",
      "Score: 0.8297154\n",
      "Content: Azure DevOps is a suite of services that help you plan, build, and deploy applications. It includes Azure Boards for work item tracking, Azure Repos for source code management, Azure Pipelines for continuous integration and continuous deployment, Azure Test Plans for manual and automated testing, and Azure Artifacts for package management. DevOps supports a wide range of programming languages, frameworks, and platforms, making it easy to integrate with your existing development tools and processes. It also integrates with other Azure services, such as Azure App Service and Azure Functions.\n",
      "Category: Developer Tools\n",
      "\n",
      "Title: Azure DevTest Labs\n",
      "Score: 0.8186685\n",
      "Content: Azure DevTest Labs is a fully managed service that enables you to create, manage, and share development and test environments in Azure. It provides features like custom templates, cost management, and integration with Azure DevOps. DevTest Labs supports various platforms, such as Windows, Linux, and Kubernetes. You can use Azure DevTest Labs to improve your application development lifecycle, reduce your costs, and ensure the consistency of your environments. It also integrates with other Azure services, such as Azure Virtual Machines and Azure App Service.\n",
      "Category: Developer Tools\n",
      "\n",
      "Title: Azure App Configuration\n",
      "Score: 0.7889983\n",
      "Content: Azure App Configuration is a fully managed configuration service that enables you to centrally manage and distribute your application settings and feature flags. It provides features like key-value storage, versioning, and access control. App Configuration supports various platforms, such as .NET, Java, Node.js, and Python. You can use Azure App Configuration to build and deploy your applications, ensure the consistency of your settings, and improve your application lifecycle. It also integrates with other Azure services, such as Azure App Service and Azure Functions.\n",
      "Category: Developer Tools\n",
      "\n"
     ]
    }
   ],
   "source": [
    "# Pure Vector Search\n",
    "query = \"tools for software development\"  \n",
    "  \n",
    "search_client = SearchClient(service_endpoint, index_name, credential=credential)\n",
    "  \n",
    "vector_query = VectorizableTextQuery(text=query, k=3, fields=\"contentVector\")\n",
    "# Use the below query to pass in the raw vector query instead of the query vectorization\n",
    "# vector_query = RawVectorQuery(vector=generate_embeddings(query), k=3, fields=\"contentVector\")\n",
    "  \n",
    "results = search_client.search(  \n",
    "    search_text=None,  \n",
    "    vector_queries= [vector_query],\n",
    "    vector_filter_mode=VectorFilterMode.PRE_FILTER,\n",
    "    filter=\"category eq 'Developer Tools'\",\n",
    "    select=[\"title\", \"content\", \"category\"],\n",
    ")\n",
    "  \n",
    "for result in results:  \n",
    "    print(f\"Title: {result['title']}\")  \n",
    "    print(f\"Score: {result['@search.score']}\")  \n",
    "    print(f\"Content: {result['content']}\")  \n",
    "    print(f\"Category: {result['category']}\\n\")  \n"
   ]
  },
  {
   "attachments": {},
   "cell_type": "markdown",
   "metadata": {},
   "source": [
    "## Perform a Hybrid Search"
   ]
  },
  {
   "cell_type": "code",
   "execution_count": null,
   "metadata": {},
   "outputs": [
    {
     "name": "stdout",
     "output_type": "stream",
     "text": [
      "Title: Azure Storage\n",
      "Score: 0.03306011110544205\n",
      "Content: Azure Storage is a scalable, durable, and highly available cloud storage service that supports a variety of data types, including blobs, files, queues, and tables. It provides a massively scalable object store for unstructured data. Storage supports data redundancy and geo-replication, ensuring high durability and availability. It offers a variety of data access and management options, including REST APIs, SDKs, and Azure Portal. You can secure your data using encryption at rest and in transit.\n",
      "Category: Storage\n",
      "\n",
      "Title: Azure Table Storage\n",
      "Score: 0.032258063554763794\n",
      "Content: Azure Table Storage is a fully managed, NoSQL datastore that enables you to store and query large amounts of structured, non-relational data. It provides features like automatic scaling, schema-less design, and a RESTful API. Table Storage supports various data types, such as strings, numbers, and booleans. You can use Azure Table Storage to store and manage your data, build scalable applications, and reduce the cost of your storage. It also integrates with other Azure services, such as Azure Functions and Azure Cosmos DB.\n",
      "Category: Storage\n",
      "\n",
      "Title: Azure Blob Storage\n",
      "Score: 0.03205128386616707\n",
      "Content: Azure Blob Storage is a scalable, durable, and high-performance object storage service for unstructured data. It provides features like data redundancy, geo-replication, and fine-grained access control. Blob Storage supports various data types, such as images, documents, and videos. You can use Blob Storage to store and manage your data, build data lakes, and develop big data analytics solutions. It also integrates with other Azure services, such as Azure CDN, Azure Functions, and Azure Machine Learning.\n",
      "Category: Storage\n",
      "\n"
     ]
    }
   ],
   "source": [
    "# Hybrid Search\n",
    "query = \"scalable storage solution\"  \n",
    "  \n",
    "search_client = SearchClient(service_endpoint, index_name, AzureKeyCredential(key))  \n",
    "vector_query = VectorizableTextQuery(text=query, k=3, fields=\"contentVector\")\n",
    "# Use the below query to pass in the raw vector query instead of the query vectorization\n",
    "# vector_query = RawVectorQuery(vector=generate_embeddings(query), k=3, fields=\"contentVector\")\n",
    "\n",
    "results = search_client.search(  \n",
    "    search_text=query,  \n",
    "    vector_queries=[vector_query],\n",
    "    select=[\"title\", \"content\", \"category\"],\n",
    "    top=3\n",
    ")  \n",
    "  \n",
    "for result in results:  \n",
    "    print(f\"Title: {result['title']}\")  \n",
    "    print(f\"Score: {result['@search.score']}\")  \n",
    "    print(f\"Content: {result['content']}\")  \n",
    "    print(f\"Category: {result['category']}\\n\")  \n"
   ]
  },
  {
   "attachments": {},
   "cell_type": "markdown",
   "metadata": {},
   "source": [
    "## Perform a Semantic Hybrid Search"
   ]
  },
  {
   "cell_type": "code",
   "execution_count": null,
   "metadata": {},
   "outputs": [
    {
     "name": "stdout",
     "output_type": "stream",
     "text": [
      "Semantic Answer: Azure Cognitive Search is<em> a fully managed search-as-a-service that enables you to build rich search experiences for your applications.</em> It provides features like full-text search, faceted navigation, and filters. Azure Cognitive Search supports various data sources, such as Azure SQL Database, Azure Blob Storage, and Azure Cosmos DB.\n",
      "Semantic Answer Score: 0.9462890625\n",
      "\n",
      "Title: Azure Stack Edge\n",
      "Reranker Score: 2.075716972351074\n",
      "Content: Azure Stack Edge is a managed, edge computing appliance that enables you to run Azure services and AI workloads on-premises or at the edge. It provides features like hardware-accelerated machine learning, local caching, and integration with Azure IoT Hub. Azure Stack Edge supports various Azure services, such as Azure Functions, Azure Machine Learning, and Azure Kubernetes Service. You can use Azure Stack Edge to build edge computing applications, optimize your data processing, and ensure the security and compliance of your workloads. It also integrates with other Azure services, such as Azure Monitor and Azure Stack Hub.\n",
      "Category: Hybrid\n",
      "Caption: Azure Stack Edge is a managed, edge computing appliance that enables you to run Azure services and AI workloads on-premises or at the edge. It provides features like hardware-accelerated machine learning, local caching, and integration with Azure IoT Hub.\n",
      "\n",
      "Title: Azure Security Center\n",
      "Reranker Score: 1.9684149026870728\n",
      "Content: Azure Security Center is a unified security management service that helps you protect your workloads and improve your security posture across your Azure resources and on-premises infrastructure. It provides features like continuous security assessments, threat protection, and security recommendations. Security Center supports various platforms, such as Windows, Linux, and Kubernetes. You can use Azure Security Center to detect and remediate threats, manage your security policies, and ensure compliance with industry regulations. It also integrates with other Azure services, such as Azure Monitor and Azure Log Analytics.\n",
      "Category: Security\n",
      "Caption: Azure Security Center is a unified security management service that helps you protect your workloads and improve your security posture across your Azure resources and on-premises infrastructure. It provides features like continuous security assessments, threat protection, and security recommendations.\n",
      "\n",
      "Title: Azure Databricks\n",
      "Reranker Score: 1.723077416419983\n",
      "Content: Azure Databricks is an Apache Spark-based analytics platform optimized for the Azure cloud. It provides a collaborative workspace for data scientists, engineers, and business users to process, analyze, and visualize big data. Databricks supports multiple programming languages, including Python, Scala, R, and SQL. It offers built-in integration with Azure Blob Storage, Azure Data Lake Storage, and Azure Cosmos DB. You can also use Databricks to train and deploy machine learning models, and integrate with Azure Machine Learning.\n",
      "Category: Analytics\n",
      "Caption: Azure Databricks is an Apache Spark-based analytics platform optimized for the Azure cloud. It provides a collaborative workspace for data scientists, engineers, and business users to process, analyze, and visualize big data. Databricks supports multiple programming languages, including Python, Scala, R, and SQL.\n",
      "\n"
     ]
    }
   ],
   "source": [
    "# Semantic Hybrid Search\n",
    "query = \"what is azure sarch?\"\n",
    "\n",
    "search_client = SearchClient(service_endpoint, index_name, AzureKeyCredential(key))\n",
    "vector_query = VectorizableTextQuery(text=query, k=3, fields=\"contentVector\")\n",
    "# Use the below query to pass in the raw vector query instead of the query vectorization\n",
    "# vector_query = RawVectorQuery(vector=generate_embeddings(query), k=3, fields=\"contentVector\")\n",
    "\n",
    "results = search_client.search(  \n",
    "    search_text=query,  \n",
    "    vector_queries=[vector_query],\n",
    "    select=[\"title\", \"content\", \"category\"],\n",
    "    query_type=QueryType.SEMANTIC, query_language=QueryLanguage.EN_US, semantic_configuration_name='my-semantic-config', query_caption=QueryCaptionType.EXTRACTIVE, query_answer=QueryAnswerType.EXTRACTIVE,\n",
    "    top=3\n",
    ")\n",
    "\n",
    "semantic_answers = results.get_answers()\n",
    "for answer in semantic_answers:\n",
    "    if answer.highlights:\n",
    "        print(f\"Semantic Answer: {answer.highlights}\")\n",
    "    else:\n",
    "        print(f\"Semantic Answer: {answer.text}\")\n",
    "    print(f\"Semantic Answer Score: {answer.score}\\n\")\n",
    "\n",
    "for result in results:\n",
    "    print(f\"Title: {result['title']}\")\n",
    "    print(f\"Reranker Score: {result['@search.reranker_score']}\")\n",
    "    print(f\"Content: {result['content']}\")\n",
    "    print(f\"Category: {result['category']}\")\n",
    "\n",
    "    captions = result[\"@search.captions\"]\n",
    "    if captions:\n",
    "        caption = captions[0]\n",
    "        if caption.highlights:\n",
    "            print(f\"Caption: {caption.highlights}\\n\")\n",
    "        else:\n",
    "            print(f\"Caption: {caption.text}\\n\")\n"
   ]
  }
 ],
 "metadata": {
  "kernelspec": {
   "display_name": "Python 3",
   "language": "python",
   "name": "python3"
  },
  "language_info": {
   "codemirror_mode": {
    "name": "ipython",
    "version": 3
   },
   "file_extension": ".py",
   "mimetype": "text/x-python",
   "name": "python",
   "nbconvert_exporter": "python",
   "pygments_lexer": "ipython3",
   "version": "3.11.5"
  },
  "orig_nbformat": 4
 },
 "nbformat": 4,
 "nbformat_minor": 2
}
